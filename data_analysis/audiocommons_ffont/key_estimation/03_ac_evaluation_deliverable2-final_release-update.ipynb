{
 "cells": [
  {
   "cell_type": "markdown",
   "metadata": {},
   "source": [
    "# Deliverable D4.12\n",
    "## Investage issues with key estimation and apple loops dataset"
   ]
  },
  {
   "cell_type": "code",
   "execution_count": 1,
   "metadata": {},
   "outputs": [],
   "source": [
    "from shared_notebook_utils import *\n",
    "from statsmodels.sandbox.stats.runs import mcnemar\n",
    "from collections import defaultdict\n",
    "seaborn.set(style=\"whitegrid\")\n",
    "%matplotlib inline\n",
    "dataset_dirnames = ['apple_loops_db']\n",
    "datasets = load_datasets(dirnames=dataset_dirnames, clean=True, exclude_files=['analysis_freesound_extractor_04.json'])  # Load and clean datasets\n",
    "methods_to_compare = ['ACExtractorV2', 'ACExtractorV3', 'EdmkeyShaath']\n",
    "accuracy_functions = [mireval_key_same, mireval_key_fifth, mireval_key_relative, mireval_key_parallel, mireval_key_weighted_score]\n",
    "accuracy_functions_names = ['Same', 'Fifth', 'Relative', 'Parallel', 'Mirex']\n",
    "\n",
    "DISPLAY_NAMES = {\n",
    "'EdmkeyShaath': 'EDMKey1',\n",
    "'EdmkeyKrumhansl': 'EDMKey2',\n",
    "'EdmkeyTemperley': 'EDMKey3',\n",
    "'ACExtractorV1': 'ACExtractorV1',\n",
    "'ACExtractorV2': 'ACExtractorV2',\n",
    "'QMULKeyDetector': 'QMULKey',\n",
    "}"
   ]
  },
  {
   "cell_type": "code",
   "execution_count": 2,
   "metadata": {},
   "outputs": [],
   "source": [
    "new_datasets = []\n",
    "for count, dataset in enumerate(datasets):\n",
    "    try:\n",
    "        with open('dataset_curation_{0}.txt'.format(dataset.short_name), 'r') as fid:\n",
    "            sids_response = {}\n",
    "            for line in fid.readlines():\n",
    "                sid, response_raw = line.split(' - ')\n",
    "                if 'YES' in response_raw:\n",
    "                    sids_response[sid] = True\n",
    "                else:\n",
    "                    sids_response[sid] = False                \n",
    "        allowed_dataset_ids = [key for key, value in sids_response.items() if value == True]\n",
    "        filtered_dataset = dataset.filter_data(condition=lambda x, y, z: x in allowed_dataset_ids)\n",
    "        filtered_dataset.short_name = dataset.short_name + '-rel'\n",
    "        filtered_dataset.name = dataset.name + ' - Reliable'\n",
    "        new_datasets.append(dataset)\n",
    "        new_datasets.append(filtered_dataset)     \n",
    "    except FileNotFoundError:\n",
    "        new_datasets.append(dataset)\n",
    "        \n",
    "datasets= new_datasets"
   ]
  },
  {
   "cell_type": "code",
   "execution_count": 3,
   "metadata": {
    "scrolled": false
   },
   "outputs": [
    {
     "name": "stdout",
     "output_type": "stream",
     "text": [
      "\n",
      "\n",
      "General key estimation results (APPL)\n",
      "**************************************\n",
      "\n",
      "\n",
      "Method          Same    Fifth   Relative   Parallel   Mirex   % analysis failed   \n",
      "----------------------------------------------------------------------------------\n",
      "EDMKey1         \u001b[36m38.53   \u001b[0m\u001b[36m8.28    \u001b[0m7.00       \u001b[36m13.23      \u001b[0m\u001b[36m47.42   \u001b[0m\u001b[36m1.20                \u001b[0m\n",
      "ACExtractorV2   24.94   3.54    \u001b[36m8.57       \u001b[0m5.36       30.35   0.87                \n",
      "\n",
      "\n",
      "General key estimation results (APPL-rel)\n",
      "******************************************\n",
      "\n",
      "\n",
      "Method          Same    Fifth   Relative   Parallel   Mirex   % analysis failed   \n",
      "----------------------------------------------------------------------------------\n",
      "EDMKey1         \u001b[36m57.58   \u001b[0m\u001b[36m8.08    \u001b[0m\u001b[36m13.13      \u001b[0m\u001b[36m11.11      \u001b[0m\u001b[36m67.78   \u001b[0m\u001b[36m0.00                \u001b[0m\n",
      "ACExtractorV2   32.32   5.05    \u001b[36m13.13      \u001b[0m1.01       38.99   \u001b[36m0.00                \u001b[0m\n"
     ]
    },
    {
     "data": {
      "image/png": "[encoded data removed]",
      "text/plain": [
       "<matplotlib.figure.Figure at 0x7fa2d882f828>"
      ]
     },
     "metadata": {},
     "output_type": "display_data"
    }
   ],
   "source": [
    "all_datasets_method_results = defaultdict(list)\n",
    "all_datasets_method_results_stats = defaultdict(list)\n",
    "fig1, axs = plt.subplots(len(datasets), 1, figsize=(8, 5*len(datasets)))\n",
    "for count, dataset in enumerate(datasets):\n",
    "    print(title(\"\\nGeneral key estimation results (%s)\" % dataset.short_name, c='*'))\n",
    "    table_header = ['Method'] + accuracy_functions_names + ['% analysis failed']\n",
    "    table_rows = list()\n",
    "\n",
    "    for method in methods_to_compare:\n",
    "        if method not in all_datasets_method_results:\n",
    "            all_datasets_method_results[method] = defaultdict(list)\n",
    "            all_datasets_method_results_stats[method] = defaultdict(list)\n",
    "        try:\n",
    "            table_row = [DISPLAY_NAMES.get(method, method)]\n",
    "            for accuracy_func in accuracy_functions:\n",
    "                method_results = accuracy_func(dataset.data, method)\n",
    "                acc_method_avg = 100 * basic_statistics(method_results)['avg']\n",
    "                table_row.append(acc_method_avg)\n",
    "                all_datasets_method_results[method][accuracy_func.__name__] += method_results\n",
    "                all_datasets_method_results_stats[method][accuracy_func.__name__].append(acc_method_avg)\n",
    "                \n",
    "            n_analysis_failed = len([item for item in dataset.data.values() if not item['analysis'].get(method, False)])\n",
    "            table_row.append(100 * n_analysis_failed / len(dataset.data))\n",
    "\n",
    "            table_rows.append(table_row)\n",
    "        except IndexError as e:\n",
    "            print(\"Warning: Skipping method %s (analsyis not found in dataset)\" % method)\n",
    "            continue\n",
    "    print(\"\")\n",
    "    print_table(table_header, table_rows, sort_column=1, highlight_max=True)\n",
    "    \n",
    "    # Plot results\n",
    "    #ax = axs[count//2,count%2]\n",
    "    ax = axs[count]\n",
    "    N = len(methods_to_compare)\n",
    "    ind = np.arange(N)\n",
    "    rects = list()\n",
    "    width = 1.0 / (len(accuracy_functions) + 1)\n",
    "    for i in range(0, len(accuracy_functions)):\n",
    "        means = [row[i+1] for row in table_rows]\n",
    "        rects.append(ax.bar(ind + i * width, means, width, color=COLORS[i]))\n",
    "    ax.set_title(dataset.name)\n",
    "    ax.set_xticks(ind + (width * len(accuracy_functions) * 1.0)/2)\n",
    "    ax.set_xticklabels([DISPLAY_NAMES.get(method, method)  for method in methods_to_compare], rotation=15)\n",
    "    ax.legend([rect[0] for rect in rects], accuracy_functions_names)\n",
    "    ax.set_ylabel('Accuracy (%)')\n",
    "    ax.set_ylim((0, 100))\n",
    "    ax.xaxis.grid(False)"
   ]
  },
  {
   "cell_type": "code",
   "execution_count": 4,
   "metadata": {
    "scrolled": false
   },
   "outputs": [
    {
     "name": "stdout",
     "output_type": "stream",
     "text": [
      "\n",
      "General key estimation results (ALL DATASETS)\n",
      "---------------------------------------------\n",
      "\n",
      "Method          Same    Fifth   Relative   Parallel   Mirex   \n",
      "--------------------------------------------------------------\n",
      "EDMKey1         \u001b[36m48.06   \u001b[0m\u001b[36m8.18    \u001b[0m10.07      \u001b[36m12.17      \u001b[0m\u001b[36m57.60   \u001b[0m\n",
      "ACExtractorV2   28.63   4.29    \u001b[36m10.85      \u001b[0m3.18       34.67   \n"
     ]
    }
   ],
   "source": [
    "print(title(\"General key estimation results (ALL DATASETS)\"))\n",
    "table_header = ['Method'] + accuracy_functions_names\n",
    "table_rows = list()\n",
    "for method, results in all_datasets_method_results_stats.items():\n",
    "    table_row = [DISPLAY_NAMES.get(method, method) ]\n",
    "    for accuracy_measure in [f.__name__ for f in accuracy_functions]:\n",
    "        data = results[accuracy_measure]\n",
    "        table_row.append(basic_statistics(data)['avg'])\n",
    "    table_rows.append(table_row)\n",
    "print_table(table_header, table_rows, sort_column=-1, highlight_max=True)\n"
   ]
  },
  {
   "cell_type": "code",
   "execution_count": 8,
   "metadata": {},
   "outputs": [
    {
     "name": "stdout",
     "output_type": "stream",
     "text": [
      "Submitting 99 tasks to 4 workers\n",
      "[99/99, 0 running] 0:00:00 remaining15 remainingggg\n",
      "All tasks compelted! [99 succeeded, 0 failed]\n"
     ]
    }
   ],
   "source": [
    "from ac_utils.analysis_algorithms import algorithm_ac_extractor3\n",
    "import pymtg\n",
    "\n",
    "ds = datasets[1]\n",
    "\n",
    "wp = pymtg.processing.WorkParallelizer()\n",
    "\n",
    "def analyze(sound_id, sound):\n",
    "    sound_path = os.path.join(settings.DATA_PATH, ds.dirname, sound['wav_sound_path'])\n",
    "    sound['file_path'] = sound_path\n",
    "    if 'ACExtractorV3' not in sound:\n",
    "        results_acext = algorithm_ac_extractor3(sound)    \n",
    "        sound['analysis']['ACExtractorV3'] = results_acext['ACExtractorV3']\n",
    "    return (sound_id, sound)\n",
    "    \n",
    "for sound_id, sound in [*ds.data.items()]:\n",
    "    wp.add_task(analyze, sound_id, sound)\n",
    "                \n",
    "wp.run(num_workers=4)\n",
    "\n",
    "# Show errors after computing all tasks (if any)\n",
    "if wp.num_tasks_failed > 0:\n",
    "    wp.show_errors()\n",
    "    \n",
    "# Store results in analysis dict\n",
    "for t in wp.tasks_succeeded():\n",
    "    sound_id, updated_sound = t.result()\n",
    "    ds.data[sound_id] = updated_sound"
   ]
  },
  {
   "cell_type": "code",
   "execution_count": 15,
   "metadata": {},
   "outputs": [
    {
     "name": "stdout",
     "output_type": "stream",
     "text": [
      "\n",
      "\n",
      "General key estimation results (APPL-rel)\n",
      "******************************************\n",
      "\n",
      "\n",
      "Method          Same    Fifth   Relative   Parallel   Mirex   % analysis failed   \n",
      "----------------------------------------------------------------------------------\n",
      "EDMKey1         \u001b[36m57.58   \u001b[0m\u001b[36m8.08    \u001b[0m13.13      \u001b[36m11.11      \u001b[0m\u001b[36m67.78   \u001b[0m\u001b[36m0.00                \u001b[0m\n",
      "ACExtractorV3   53.54   5.05    \u001b[36m21.21      \u001b[0m6.06       63.64   \u001b[36m0.00                \u001b[0m\n",
      "ACExtractorV2   32.32   5.05    13.13      1.01       38.99   \u001b[36m0.00                \u001b[0m\n"
     ]
    }
   ],
   "source": [
    "# Compute results\n",
    "\n",
    "dataset = datasets[1]\n",
    "methods_to_compare = ['ACExtractorV3', 'ACExtractorV2', 'EdmkeyShaath']\n",
    "\n",
    "print(title(\"\\nGeneral key estimation results (%s)\" % dataset.short_name, c='*'))\n",
    "table_header = ['Method'] + accuracy_functions_names + ['% analysis failed']\n",
    "table_rows = list()\n",
    "\n",
    "for method in methods_to_compare:\n",
    "    try:\n",
    "        table_row = [DISPLAY_NAMES.get(method, method)]\n",
    "        for accuracy_func in accuracy_functions:\n",
    "            method_results = accuracy_func(dataset.data, method)\n",
    "            acc_method_avg = 100 * basic_statistics(method_results)['avg']\n",
    "            table_row.append(acc_method_avg)\n",
    "          \n",
    "        n_analysis_failed = len([item for item in dataset.data.values() if not item['analysis'].get(method, False)])\n",
    "        table_row.append(100 * n_analysis_failed / len(dataset.data))\n",
    "\n",
    "        table_rows.append(table_row)\n",
    "    except IndexError as e:\n",
    "        print(\"Warning: Skipping method %s (analsyis not found in dataset)\" % method)\n",
    "        continue\n",
    "print(\"\")\n",
    "print_table(table_header, table_rows, sort_column=1, highlight_max=True)"
   ]
  },
  {
   "cell_type": "code",
   "execution_count": null,
   "metadata": {},
   "outputs": [],
   "source": [
    "# Apparently something happened with ACExtractorV2, but V3 version returns results similar to EDMKey1 so we should be fine\n",
    "# Let's re-analyze all datasets anyway to update results."
   ]
  }
 ],
 "metadata": {
  "kernelspec": {
   "display_name": "Python 3",
   "language": "python",
   "name": "python3"
  },
  "language_info": {
   "codemirror_mode": {
    "name": "ipython",
    "version": 3
   },
   "file_extension": ".py",
   "mimetype": "text/x-python",
   "name": "python",
   "nbconvert_exporter": "python",
   "pygments_lexer": "ipython3",
   "version": "3.6.3"
  }
 },
 "nbformat": 4,
 "nbformat_minor": 2
}
