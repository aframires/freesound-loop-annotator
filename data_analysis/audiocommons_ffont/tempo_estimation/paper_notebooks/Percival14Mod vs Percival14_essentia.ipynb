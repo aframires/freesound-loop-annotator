{
 "cells": [
  {
   "cell_type": "code",
   "execution_count": 1,
   "metadata": {
    "collapsed": false,
    "scrolled": true
   },
   "outputs": [
    {
     "name": "stderr",
     "output_type": "stream",
     "text": [
      "/usr/local/lib/python2.7/site-packages/matplotlib/__init__.py:872: UserWarning: axes.color_cycle is deprecated and replaced with axes.prop_cycle; please use the latter.\n",
      "  warnings.warn(self.msg_depr % (key, alt_key))\n"
     ]
    }
   ],
   "source": [
    "from shared_notebook_utils import *\n",
    "datasets = load_datasets(dirnames=['freesound_loops_db_4000'], clean=True)\n",
    "dataset = datasets[0]\n",
    "%matplotlib inline\n",
    "\n",
    "# This notebook contains expriments that complement those found in the article: Font, F., & Serra, X. (2016). Tempo Estimation for Music Loops and a Simple Confidence Measure. In Proceedings of the Int. Conf. on Music Information Retrieval (ISMIR).\n",
    "# License: CC-BY-4.0"
   ]
  },
  {
   "cell_type": "code",
   "execution_count": 2,
   "metadata": {
    "collapsed": false
   },
   "outputs": [
    {
     "data": {
      "image/png": "[encoded data removed]",
      "text/plain": [
       "<matplotlib.figure.Figure at 0x117ff4990>"
      ]
     },
     "metadata": {},
     "output_type": "display_data"
    },
    {
     "name": "stdout",
     "output_type": "stream",
     "text": [
      "(ROUNDED) 1261 produce different results, 2681 produce same results (31.99% different)\n",
      "(FLOAT, 0.1 max dif) 1529 produce different results, 2413 produce same results (38.79% different)\n"
     ]
    }
   ],
   "source": [
    "# Evaluate how differnt the ouputs of the two algorithms are\n",
    "bpm_round_diffs = list()\n",
    "bpm_diffs = list()\n",
    "sounds = list()\n",
    "for sound in dataset.data.values():\n",
    "    try:\n",
    "        percival14mod_bpm = sound['analysis']['Percival14Mod']['bpm']\n",
    "        percival14essentia_bpm = sound['analysis']['Percival14_essentia']['bpm']\n",
    "        bpm_round_diffs.append(round(percival14mod_bpm) - round(percival14essentia_bpm))\n",
    "        bpm_diffs.append(percival14mod_bpm - percival14essentia_bpm)\n",
    "        sounds.append(sound)\n",
    "    except KeyError:\n",
    "        # Loop could not be analysed with both algorithms, continue\n",
    "        continue\n",
    "\n",
    "fig1, axs = plt.subplots(1, 1, figsize=(17, 5))\n",
    "plt.hist([abs(i) for i in bpm_round_diffs], bins=50, range=(0,50))\n",
    "plt.show()\n",
    "\n",
    "# Considering rounded bpms\n",
    "n_different = len(np.where(np.array([abs(i) for i in bpm_round_diffs])>0)[0])\n",
    "n_same = len(np.where(np.array([abs(i) for i in bpm_round_diffs])==0)[0])\n",
    "print '(ROUNDED) %i produce different results, %i produce same results (%.2f%% different)' % (n_different, n_same, 100.0*(n_different)/(n_different+n_same))\n",
    "\n",
    "# Considering float bpms\n",
    "n_different = len(np.where(np.array([abs(i) for i in bpm_diffs])>0.1)[0])\n",
    "n_same = len(np.where(np.array([abs(i) for i in bpm_diffs])<=0.1)[0])\n",
    "print '(FLOAT, 0.1 max dif) %i produce different results, %i produce same results (%.2f%% different)' % (n_different, n_same, 100.0*(n_different)/(n_different+n_same))\n"
   ]
  },
  {
   "cell_type": "code",
   "execution_count": 3,
   "metadata": {
    "collapsed": false
   },
   "outputs": [
    {
     "data": {
      "image/png": "[encoded data removed]",
      "text/plain": [
       "<matplotlib.figure.Figure at 0x106fd5c10>"
      ]
     },
     "metadata": {},
     "output_type": "display_data"
    },
    {
     "name": "stdout",
     "output_type": "stream",
     "text": [
      "Most of the sounds that produce different results are under 6s duration.\n"
     ]
    }
   ],
   "source": [
    "# Check length of sounds that produce different results\n",
    "\n",
    "indices = np.where(np.array([abs(i) for i in bpm_round_diffs])>0)[0]\n",
    "durations = [sounds[idx]['analysis']['durations']['duration'] for idx in indices]\n",
    "fig, axs = plt.subplots(1, 1, figsize=(17, 5))\n",
    "plt.hist(durations, bins=50, range=(0,50))\n",
    "plt.title('Histogram of duration of sounds that produce different results')\n",
    "plt.show()\n",
    "\n",
    "print 'Most of the sounds that produce different results are under 6s duration.'"
   ]
  },
  {
   "cell_type": "code",
   "execution_count": 4,
   "metadata": {
    "collapsed": false
   },
   "outputs": [
    {
     "name": "stdout",
     "output_type": "stream",
     "text": [
      "Selected sound with id 276071 (from 1529 sounds)\n",
      "Length: 82687\n",
      "Python 128.39673913\n",
      "Could not load some (or any) essentia data\n",
      "Essentia 127.604164124\n"
     ]
    }
   ],
   "source": [
    "# Select a sound that produces different results\n",
    "#indices = np.where(np.array([abs(i) for i in bpm_diffs])==0.0)[0]\n",
    "indices = np.where(np.array([abs(i) for i in bpm_diffs])>0.1)[0]\n",
    "import random\n",
    "random.shuffle(indices)\n",
    "sound = sounds[indices[0]]\n",
    "sound_id = sound['id']\n",
    "print 'Selected sound with id %s (from %i sounds)' % (sound_id, len(indices))\n",
    "sample_rate = 44100\n",
    "audio = load_audio_file(file_path=dataset.get_sound_path(sound_id), sample_rate=sample_rate)\n",
    "print 'Length: %i' % audio.shape[0]\n",
    "\n",
    "# Run Percival14Mod method and gather intermediate data\n",
    "from algorithms.Percival14Mod.defs_class import Defs\n",
    "from algorithms.Percival14Mod.onset_strength import onset_strength_signal\n",
    "from algorithms.Percival14Mod.beat_period_detection import beat_period_detection\n",
    "from algorithms.Percival14Mod.accumulator_overall import accumulator_overall\n",
    "pythonData = dict()\n",
    "defs = Defs()\n",
    "oss_sr, oss_data = onset_strength_signal(defs, sample_rate, audio, plot=False)\n",
    "tempo_lags, peaks, autocorr, harmonic_enhanced, oss_overlapped = beat_period_detection(defs, oss_sr, oss_data, plot=False, intermediate_data=True)\n",
    "bpm, accum, mult = accumulator_overall(defs, tempo_lags, oss_sr, intermediate_data=True)\n",
    "pythonData = {\n",
    "    'oss': oss_data,\n",
    "    'oss_overlapped': oss_overlapped,\n",
    "    'peaks': peaks,\n",
    "    'autocorr': autocorr,\n",
    "    'harmonic_enhanced': harmonic_enhanced,\n",
    "    'tempo_lags': tempo_lags,\n",
    "    'accum': accum,\n",
    "    'mult': mult,\n",
    "    'bpm': bpm,\n",
    "}\n",
    "print 'Python', pythonData['bpm']\n",
    "\n",
    "# Delete temporary files starting with __d_*\n",
    "files_to_delete = [filename for filename in os.listdir('.') if filename.startswith('__d_')]\n",
    "for filename in files_to_delete:\n",
    "    os.remove(filename)\n",
    "    \n",
    "# Util function, load data form file\n",
    "def load_data(filename):\n",
    "    fid = open(filename, 'r')\n",
    "    parsed_data = list()\n",
    "    for line in fid:\n",
    "        parsed_data.append(json.loads(line))\n",
    "    return np.array(parsed_data)\n",
    "        \n",
    "# Run Percival14_essentia method and gather intermediate data\n",
    "import essentia.standard as estd\n",
    "essentiaData = dict()\n",
    "tempo_estimator = estd.PercivalBpmEstimator()\n",
    "bpm = tempo_estimator(audio)\n",
    "essentiaData['bpm'] = bpm\n",
    "try:\n",
    "    essentiaData['oss'] = load_data('__d_oss.txt')[0]\n",
    "    essentiaData['oss_overlapped'] = load_data('__d_oss_overlapped.txt')\n",
    "    essentiaData['peaks'] = load_data('__d_peaks.txt')\n",
    "    essentiaData['autocorr'] = load_data('__d_autocorr.txt')\n",
    "    essentiaData['harmonic_enhanced'] = load_data('__d_enhance_harmonics.txt')\n",
    "except IOError:\n",
    "    print 'Could not load some (or any) essentia data'\n",
    "\n",
    "print 'Essentia', essentiaData['bpm']"
   ]
  },
  {
   "cell_type": "code",
   "execution_count": 5,
   "metadata": {
    "collapsed": false,
    "scrolled": false
   },
   "outputs": [
    {
     "ename": "KeyError",
     "evalue": "'oss'",
     "output_type": "error",
     "traceback": [
      "\u001b[0;31m---------------------------------------------------------------------------\u001b[0m",
      "\u001b[0;31mKeyError\u001b[0m                                  Traceback (most recent call last)",
      "\u001b[0;32m<ipython-input-5-0e2e2811aec8>\u001b[0m in \u001b[0;36m<module>\u001b[0;34m()\u001b[0m\n\u001b[1;32m      3\u001b[0m \u001b[0;31m# Compare oss\u001b[0m\u001b[0;34m\u001b[0m\u001b[0;34m\u001b[0m\u001b[0m\n\u001b[1;32m      4\u001b[0m \u001b[0;32mfor\u001b[0m \u001b[0mprop_name\u001b[0m \u001b[0;32min\u001b[0m \u001b[0;34m[\u001b[0m\u001b[0;34m'oss'\u001b[0m\u001b[0;34m]\u001b[0m\u001b[0;34m:\u001b[0m\u001b[0;34m\u001b[0m\u001b[0m\n\u001b[0;32m----> 5\u001b[0;31m     \u001b[0;32mif\u001b[0m \u001b[0mlen\u001b[0m\u001b[0;34m(\u001b[0m\u001b[0messentiaData\u001b[0m\u001b[0;34m[\u001b[0m\u001b[0mprop_name\u001b[0m\u001b[0;34m]\u001b[0m\u001b[0;34m)\u001b[0m \u001b[0;34m!=\u001b[0m \u001b[0mlen\u001b[0m\u001b[0;34m(\u001b[0m\u001b[0mpythonData\u001b[0m\u001b[0;34m[\u001b[0m\u001b[0mprop_name\u001b[0m\u001b[0;34m]\u001b[0m\u001b[0;34m)\u001b[0m\u001b[0;34m:\u001b[0m\u001b[0;34m\u001b[0m\u001b[0m\n\u001b[0m\u001b[1;32m      6\u001b[0m         \u001b[0;32mprint\u001b[0m \u001b[0;34m'[%s] Essentia and python data have different length... (%i and %i resp.)'\u001b[0m \u001b[0;34m%\u001b[0m \u001b[0;34m(\u001b[0m\u001b[0mprop_name\u001b[0m\u001b[0;34m,\u001b[0m \u001b[0mlen\u001b[0m\u001b[0;34m(\u001b[0m\u001b[0messentiaData\u001b[0m\u001b[0;34m[\u001b[0m\u001b[0mprop_name\u001b[0m\u001b[0;34m]\u001b[0m\u001b[0;34m)\u001b[0m\u001b[0;34m,\u001b[0m \u001b[0mlen\u001b[0m\u001b[0;34m(\u001b[0m\u001b[0mpythonData\u001b[0m\u001b[0;34m[\u001b[0m\u001b[0mprop_name\u001b[0m\u001b[0;34m]\u001b[0m\u001b[0;34m)\u001b[0m\u001b[0;34m)\u001b[0m\u001b[0;34m\u001b[0m\u001b[0m\n\u001b[1;32m      7\u001b[0m \u001b[0;34m\u001b[0m\u001b[0m\n",
      "\u001b[0;31mKeyError\u001b[0m: 'oss'"
     ]
    }
   ],
   "source": [
    "# NOTE: this cell will fail if the essentia algorithm does not include hooks for writing intermediate values to files\n",
    "\n",
    "# Compare oss\n",
    "for prop_name in ['oss']:\n",
    "    if len(essentiaData[prop_name]) != len(pythonData[prop_name]):\n",
    "        print '[%s] Essentia and python data have different length... (%i and %i resp.)' % (prop_name, len(essentiaData[prop_name]), len(pythonData[prop_name]))\n",
    "\n",
    "fig, axs = plt.subplots(1, 1, figsize=(17, 5))\n",
    "plt.title('OSS')\n",
    "plt.plot(essentiaData['oss'], color='red')\n",
    "plt.plot(pythonData['oss'], color='blue')\n",
    "#plt.axis([0, 500, 0, 16])\n",
    "plt.show()    "
   ]
  },
  {
   "cell_type": "code",
   "execution_count": 6,
   "metadata": {
    "collapsed": false,
    "scrolled": false
   },
   "outputs": [
    {
     "ename": "KeyError",
     "evalue": "'harmonic_enhanced'",
     "output_type": "error",
     "traceback": [
      "\u001b[0;31m---------------------------------------------------------------------------\u001b[0m",
      "\u001b[0;31mKeyError\u001b[0m                                  Traceback (most recent call last)",
      "\u001b[0;32m<ipython-input-6-0936cdca49ac>\u001b[0m in \u001b[0;36m<module>\u001b[0;34m()\u001b[0m\n\u001b[1;32m      3\u001b[0m \u001b[0;31m# Compare enhance harmonics and peak picking\u001b[0m\u001b[0;34m\u001b[0m\u001b[0;34m\u001b[0m\u001b[0m\n\u001b[1;32m      4\u001b[0m \u001b[0;32mfor\u001b[0m \u001b[0mprop_name\u001b[0m \u001b[0;32min\u001b[0m \u001b[0;34m[\u001b[0m\u001b[0;34m'harmonic_enhanced'\u001b[0m\u001b[0;34m,\u001b[0m \u001b[0;34m'peaks'\u001b[0m\u001b[0;34m]\u001b[0m\u001b[0;34m:\u001b[0m\u001b[0;34m\u001b[0m\u001b[0m\n\u001b[0;32m----> 5\u001b[0;31m     \u001b[0;32mif\u001b[0m \u001b[0mlen\u001b[0m\u001b[0;34m(\u001b[0m\u001b[0messentiaData\u001b[0m\u001b[0;34m[\u001b[0m\u001b[0mprop_name\u001b[0m\u001b[0;34m]\u001b[0m\u001b[0;34m)\u001b[0m \u001b[0;34m!=\u001b[0m \u001b[0mlen\u001b[0m\u001b[0;34m(\u001b[0m\u001b[0mpythonData\u001b[0m\u001b[0;34m[\u001b[0m\u001b[0mprop_name\u001b[0m\u001b[0;34m]\u001b[0m\u001b[0;34m)\u001b[0m\u001b[0;34m:\u001b[0m\u001b[0;34m\u001b[0m\u001b[0m\n\u001b[0m\u001b[1;32m      6\u001b[0m         \u001b[0;32mprint\u001b[0m \u001b[0;34m'[%s] Essentia and python data have different length... (%i and %i resp.)'\u001b[0m \u001b[0;34m%\u001b[0m \u001b[0;34m(\u001b[0m\u001b[0mprop_name\u001b[0m\u001b[0;34m,\u001b[0m \u001b[0mlen\u001b[0m\u001b[0;34m(\u001b[0m\u001b[0messentiaData\u001b[0m\u001b[0;34m[\u001b[0m\u001b[0mprop_name\u001b[0m\u001b[0;34m]\u001b[0m\u001b[0;34m)\u001b[0m\u001b[0;34m,\u001b[0m \u001b[0mlen\u001b[0m\u001b[0;34m(\u001b[0m\u001b[0mpythonData\u001b[0m\u001b[0;34m[\u001b[0m\u001b[0mprop_name\u001b[0m\u001b[0;34m]\u001b[0m\u001b[0;34m)\u001b[0m\u001b[0;34m)\u001b[0m\u001b[0;34m\u001b[0m\u001b[0m\n\u001b[1;32m      7\u001b[0m \u001b[0;34m\u001b[0m\u001b[0m\n",
      "\u001b[0;31mKeyError\u001b[0m: 'harmonic_enhanced'"
     ]
    }
   ],
   "source": [
    "# NOTE: this cell will fail if the essentia algorithm does not include hooks for writing intermediate values to files\n",
    "\n",
    "# Compare enhance harmonics and peak picking\n",
    "for prop_name in ['harmonic_enhanced', 'peaks']:\n",
    "    if len(essentiaData[prop_name]) != len(pythonData[prop_name]):\n",
    "        print '[%s] Essentia and python data have different length... (%i and %i resp.)' % (prop_name, len(essentiaData[prop_name]), len(pythonData[prop_name]))\n",
    "\n",
    "for frame in range(0, min(len(essentiaData['harmonic_enhanced']), len(pythonData['harmonic_enhanced'])))[0:3]:           \n",
    "    fig, axs = plt.subplots(1, 1, figsize=(17, 5))\n",
    "    plt.title('Frame %i (SIGNAL)' % frame)\n",
    "    plt.plot(essentiaData['oss_overlapped'][frame], color='red')\n",
    "    plt.plot(pythonData['oss_overlapped'][frame], color='blue')\n",
    "    \n",
    "    fig, axs = plt.subplots(1, 1, figsize=(17, 5))\n",
    "    plt.title('Frame %i (AUTOCORR)' % frame)\n",
    "    plt.plot(essentiaData['autocorr'][frame], color='red')\n",
    "    plt.vlines(essentiaData['peaks'][frame], 0, 500, color='red')\n",
    "    plt.plot(pythonData['autocorr'][frame], color='blue')\n",
    "    plt.vlines(pythonData['peaks'][frame], 0, 500, color='blue')\n",
    "    plt.axis([80, 400, 0, 1.2 * max(pythonData['autocorr'][frame][80:400])])\n",
    "\n",
    "plt.show()    \n"
   ]
  },
  {
   "cell_type": "code",
   "execution_count": 9,
   "metadata": {
    "collapsed": false
   },
   "outputs": [
    {
     "name": "stdout",
     "output_type": "stream",
     "text": [
      "Average difference of confidence measures: 0.00000002\n"
     ]
    }
   ],
   "source": [
    "# Now we compare output of the confidence measure computed in python or in essentia\n",
    "def compute_confidence_measure_python(estimated_bpm, sound):\n",
    "    sample_rate=44100 \n",
    "    beat_range=range(1, 128)\n",
    "    k=0.5\n",
    "    duration_samples = sound['analysis']['durations']['length_samples']\n",
    "    start_effective_duration = sound['analysis']['durations']['start_effective_duration']\n",
    "    end_effective_duration = sound['analysis']['durations']['end_effective_duration']\n",
    "    \n",
    "    if estimated_bpm == 0:\n",
    "        # This condition is to skip computing other steps if estimated bpm is 0, we already know that the\n",
    "        # output will be 0\n",
    "        return 0\n",
    "\n",
    "    durations_to_check = [\n",
    "        duration_samples,\n",
    "        duration_samples - start_effective_duration,\n",
    "        end_effective_duration,\n",
    "        end_effective_duration - start_effective_duration\n",
    "    ]\n",
    "\n",
    "    beat_duration = (60.0 * sample_rate)/estimated_bpm\n",
    "    L = [beat_duration * n for n in beat_range]\n",
    "    thr_lambda = k * beat_duration\n",
    "    confidences = list()\n",
    "    for duration in durations_to_check:\n",
    "        delta_l = min([abs(l - duration) for l in L])\n",
    "        if delta_l > thr_lambda:\n",
    "            confidences.append(0.0)\n",
    "        else:\n",
    "            confidences.append(1.0 - float(delta_l) / thr_lambda)\n",
    "    return max(confidences)\n",
    "\n",
    "def compute_confidence_measure_essentia(estimated_bpm, audio):\n",
    "    confidence_algorithm = estd.LoopBpmConfidence()\n",
    "    return confidence_algorithm(audio, estimated_bpm)\n",
    "\n",
    "\n",
    "diffs = list()\n",
    "for sound in sounds[0:100]:\n",
    "    estimated_bpm = sound['analysis']['Percival14Mod']['bpm']  # We use same value for estimation\n",
    "    sample_rate = 44100\n",
    "    audio = load_audio_file(file_path=dataset.get_sound_path(sound['id']), sample_rate=sample_rate)\n",
    "    confidence_essentia = compute_confidence_measure_essentia(estimated_bpm, audio)\n",
    "    confidence_python = compute_confidence_measure_python(estimated_bpm, sound)\n",
    "    diffs = abs(confidence_essentia - confidence_python)\n",
    "\n",
    "print 'Average difference of confidence measures: %.8f' % np.mean(diffs)\n",
    "    "
   ]
  },
  {
   "cell_type": "code",
   "execution_count": null,
   "metadata": {
    "collapsed": true
   },
   "outputs": [],
   "source": []
  }
 ],
 "metadata": {
  "kernelspec": {
   "display_name": "Python 2",
   "language": "python",
   "name": "python2"
  },
  "language_info": {
   "codemirror_mode": {
    "name": "ipython",
    "version": 2
   },
   "file_extension": ".py",
   "mimetype": "text/x-python",
   "name": "python",
   "nbconvert_exporter": "python",
   "pygments_lexer": "ipython2",
   "version": "2.7.10"
  }
 },
 "nbformat": 4,
 "nbformat_minor": 0
}
